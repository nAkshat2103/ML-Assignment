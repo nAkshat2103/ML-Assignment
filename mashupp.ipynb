{
  "nbformat": 4,
  "nbformat_minor": 0,
  "metadata": {
    "colab": {
      "provenance": [],
      "authorship_tag": "ABX9TyMqG9461XljzG4QfBUkyvI9",
      "include_colab_link": true
    },
    "kernelspec": {
      "name": "python3",
      "display_name": "Python 3"
    },
    "language_info": {
      "name": "python"
    }
  },
  "cells": [
    {
      "cell_type": "markdown",
      "metadata": {
        "id": "view-in-github",
        "colab_type": "text"
      },
      "source": [
        "<a href=\"https://colab.research.google.com/github/nAkshat2103/ML-Assignment/blob/main/mashupp.ipynb\" target=\"_parent\"><img src=\"https://colab.research.google.com/assets/colab-badge.svg\" alt=\"Open In Colab\"/></a>"
      ]
    },
    {
      "cell_type": "code",
      "execution_count": 1,
      "metadata": {
        "colab": {
          "base_uri": "https://localhost:8080/"
        },
        "id": "QqLTZcQdS8ME",
        "outputId": "01b6af20-0af2-4036-9458-fab8cfc55625"
      },
      "outputs": [
        {
          "output_type": "stream",
          "name": "stdout",
          "text": [
            "Collecting yt-dlp\n",
            "  Downloading yt_dlp-2024.12.13-py3-none-any.whl.metadata (172 kB)\n",
            "\u001b[2K     \u001b[90m━━━━━━━━━━━━━━━━━━━━━━━━━━━━━━━━━━━━━━━━\u001b[0m \u001b[32m172.1/172.1 kB\u001b[0m \u001b[31m4.5 MB/s\u001b[0m eta \u001b[36m0:00:00\u001b[0m\n",
            "\u001b[?25hCollecting pydub\n",
            "  Downloading pydub-0.25.1-py2.py3-none-any.whl.metadata (1.4 kB)\n",
            "Downloading yt_dlp-2024.12.13-py3-none-any.whl (3.2 MB)\n",
            "\u001b[2K   \u001b[90m━━━━━━━━━━━━━━━━━━━━━━━━━━━━━━━━━━━━━━━━\u001b[0m \u001b[32m3.2/3.2 MB\u001b[0m \u001b[31m44.3 MB/s\u001b[0m eta \u001b[36m0:00:00\u001b[0m\n",
            "\u001b[?25hDownloading pydub-0.25.1-py2.py3-none-any.whl (32 kB)\n",
            "Installing collected packages: pydub, yt-dlp\n",
            "Successfully installed pydub-0.25.1 yt-dlp-2024.12.13\n"
          ]
        }
      ],
      "source": [
        "pip install yt-dlp pydub"
      ]
    },
    {
      "cell_type": "code",
      "source": [
        "import os\n",
        "import random\n",
        "import yt_dlp\n",
        "from pydub import AudioSegment\n",
        "from google.colab import files"
      ],
      "metadata": {
        "id": "VKgrL-9xTCZT"
      },
      "execution_count": 3,
      "outputs": []
    },
    {
      "cell_type": "code",
      "source": [
        "AUDIO_DIR = '/content/audios'\n",
        "OUTPUT_DIR = '/content/output'\n",
        "\n",
        "os.makedirs(AUDIO_DIR, exist_ok=True)\n",
        "os.makedirs(OUTPUT_DIR, exist_ok=True)\n"
      ],
      "metadata": {
        "id": "2jn4i60_TH07"
      },
      "execution_count": 4,
      "outputs": []
    },
    {
      "cell_type": "code",
      "source": [
        "def download_audio(video_url, index):\n",
        "    \"\"\"Download audio from YouTube video.\"\"\"\n",
        "    try:\n",
        "        print(f\"Downloading audio for video {index}: {video_url}\")\n",
        "        ydl_opts = {\n",
        "            'format': 'bestaudio/best',\n",
        "            'outtmpl': f'{AUDIO_DIR}/audio_{index}.webm',\n",
        "            'noplaylist': True,\n",
        "        }\n",
        "        with yt_dlp.YoutubeDL(ydl_opts) as ydl:\n",
        "            ydl.download([video_url])\n",
        "        return f'{AUDIO_DIR}/audio_{index}.webm'\n",
        "    except Exception as e:\n",
        "        print(f\"Error downloading video {index}: {e}\")\n",
        "        return None"
      ],
      "metadata": {
        "id": "uK1pJaURTIVh"
      },
      "execution_count": 5,
      "outputs": []
    },
    {
      "cell_type": "code",
      "source": [
        "def convert_to_wav(input_path):\n",
        "    \"\"\"Convert downloaded audio to WAV format using pydub.\"\"\"\n",
        "    try:\n",
        "        audio = AudioSegment.from_file(input_path)\n",
        "        wav_path = input_path.replace('.webm', '.wav')\n",
        "        audio.export(wav_path, format=\"wav\")\n",
        "        return wav_path\n",
        "    except Exception as e:\n",
        "        print(f\"Error converting {input_path} to WAV: {e}\")\n",
        "        return None"
      ],
      "metadata": {
        "id": "R48sgm9RTIX_"
      },
      "execution_count": 6,
      "outputs": []
    },
    {
      "cell_type": "code",
      "source": [
        "def extract_random_clip(input_path, duration):\n",
        "    \"\"\"Extract a random clip of the specified duration from the audio file.\"\"\"\n",
        "    try:\n",
        "        audio = AudioSegment.from_file(input_path)\n",
        "        start_time = random.randint(0, max(0, len(audio) - duration * 1000))\n",
        "        return audio[start_time:start_time + duration * 1000]\n",
        "    except Exception as e:\n",
        "        print(f\"Error extracting clip from {input_path}: {e}\")\n",
        "        return None"
      ],
      "metadata": {
        "id": "_r8WdjrBTIaT"
      },
      "execution_count": 7,
      "outputs": []
    },
    {
      "cell_type": "code",
      "source": [
        "def create_mashup(audio_paths, output_filename, clip_duration=5):\n",
        "    \"\"\"Create a mashup by concatenating random clips from audio files.\"\"\"\n",
        "    try:\n",
        "        mashup = AudioSegment.silent(duration=0)\n",
        "        for path in audio_paths:\n",
        "            clip = extract_random_clip(path, clip_duration)\n",
        "            if clip:\n",
        "                mashup += clip\n",
        "\n",
        "        if len(mashup) > 0:\n",
        "            output_path = os.path.join(OUTPUT_DIR, output_filename)\n",
        "            mashup.export(output_path, format=\"mp3\")\n",
        "            print(f\"Mashup created and saved to {output_path}\")\n",
        "            return output_path\n",
        "        else:\n",
        "            print(\"No clips to create a mashup.\")\n",
        "            return None\n",
        "    except Exception as e:\n",
        "        print(f\"Error creating mashup: {e}\")\n",
        "        return None\n"
      ],
      "metadata": {
        "id": "jVBbVU9vTIct"
      },
      "execution_count": 8,
      "outputs": []
    },
    {
      "cell_type": "code",
      "source": [
        "def search_videos(singer_name, num_videos):\n",
        "    \"\"\"Search YouTube for videos by singer name.\"\"\"\n",
        "    try:\n",
        "        ydl_opts = {\n",
        "            'quiet': True,\n",
        "            'default_search': 'ytsearch',\n",
        "            'format': 'bestaudio',\n",
        "        }\n",
        "        search_query = f\"{singer_name} official audio OR official music OR official video\"\n",
        "        with yt_dlp.YoutubeDL(ydl_opts) as ydl:\n",
        "            result = ydl.extract_info(f\"ytsearch{num_videos}:{search_query}\", download=False)\n",
        "            return [entry['webpage_url'] for entry in result['entries'][:num_videos]]\n",
        "    except Exception as e:\n",
        "        print(f\"Error searching videos: {e}\")\n",
        "        return []"
      ],
      "metadata": {
        "id": "FANhJsLETIfH"
      },
      "execution_count": 9,
      "outputs": []
    },
    {
      "cell_type": "code",
      "source": [
        "def main(singer_name, num_videos, audio_duration, output_filename):\n",
        "    if num_videos < 10 or audio_duration < 5:\n",
        "        print(\"Number of videos must be greater than 10 and audio duration must be at least 5 seconds.\")\n",
        "        return\n",
        "\n",
        "    try:\n",
        "        video_urls = search_videos(singer_name, num_videos)\n",
        "        if not video_urls:\n",
        "            print(\"No videos found. Exiting.\")\n",
        "            return\n",
        "\n",
        "        audio_paths = []\n",
        "        for i, video_url in enumerate(video_urls):\n",
        "            downloaded_file = download_audio(video_url, i + 1)\n",
        "            if downloaded_file:\n",
        "                wav_path = convert_to_wav(downloaded_file)\n",
        "                if wav_path:\n",
        "                    audio_paths.append(wav_path)\n",
        "\n",
        "        mashup_path = create_mashup(audio_paths, output_filename, clip_duration=audio_duration)\n",
        "        if mashup_path:\n",
        "            print(\"Mashup created successfully. Downloading...\")\n",
        "            files.download(mashup_path)\n",
        "    except Exception as e:\n",
        "        print(f\"An unexpected error occurred: {e}\")\n"
      ],
      "metadata": {
        "id": "ZmS9FGWoTIhP"
      },
      "execution_count": 10,
      "outputs": []
    },
    {
      "cell_type": "code",
      "source": [
        "singer_name = \"Sharry Maan\"\n",
        "num_videos = 15\n",
        "audio_duration = 5\n",
        "output_filename = \"mashup.mp3\"\n",
        "\n",
        "main(singer_name, num_videos, audio_duration, output_filename)"
      ],
      "metadata": {
        "colab": {
          "base_uri": "https://localhost:8080/",
          "height": 1000
        },
        "id": "I85xf3pWTIjl",
        "outputId": "7bc0aa20-5a80-4380-9152-5df402049760"
      },
      "execution_count": 11,
      "outputs": [
        {
          "output_type": "stream",
          "name": "stdout",
          "text": [
            "Downloading audio for video 1: https://www.youtube.com/watch?v=BJ-6hjVnwa0\n",
            "[youtube] Extracting URL: https://www.youtube.com/watch?v=BJ-6hjVnwa0\n",
            "[youtube] BJ-6hjVnwa0: Downloading webpage\n",
            "[youtube] BJ-6hjVnwa0: Downloading ios player API JSON\n",
            "[youtube] BJ-6hjVnwa0: Downloading mweb player API JSON\n",
            "[youtube] BJ-6hjVnwa0: Downloading m3u8 information\n",
            "[info] BJ-6hjVnwa0: Downloading 1 format(s): 251\n",
            "[download] Destination: /content/audios/audio_1.webm\n",
            "[download] 100% of   21.85MiB in 00:00:01 at 13.21MiB/s  \n",
            "Downloading audio for video 2: https://www.youtube.com/watch?v=tR6XkXy-gjY\n",
            "[youtube] Extracting URL: https://www.youtube.com/watch?v=tR6XkXy-gjY\n",
            "[youtube] tR6XkXy-gjY: Downloading webpage\n",
            "[youtube] tR6XkXy-gjY: Downloading ios player API JSON\n",
            "[youtube] tR6XkXy-gjY: Downloading mweb player API JSON\n",
            "[youtube] tR6XkXy-gjY: Downloading m3u8 information\n",
            "[info] tR6XkXy-gjY: Downloading 1 format(s): 251\n",
            "[download] Destination: /content/audios/audio_2.webm\n",
            "[download] 100% of    3.50MiB in 00:00:00 at 11.07MiB/s  \n",
            "Downloading audio for video 3: https://www.youtube.com/watch?v=lKB2AoDopM4\n",
            "[youtube] Extracting URL: https://www.youtube.com/watch?v=lKB2AoDopM4\n",
            "[youtube] lKB2AoDopM4: Downloading webpage\n",
            "[youtube] lKB2AoDopM4: Downloading ios player API JSON\n",
            "[youtube] lKB2AoDopM4: Downloading mweb player API JSON\n",
            "[youtube] lKB2AoDopM4: Downloading m3u8 information\n",
            "[info] lKB2AoDopM4: Downloading 1 format(s): 251\n",
            "[download] Destination: /content/audios/audio_3.webm\n",
            "[download] 100% of    4.11MiB in 00:00:00 at 8.11MiB/s   \n",
            "Downloading audio for video 4: https://www.youtube.com/watch?v=kcrRu6jEBVg\n",
            "[youtube] Extracting URL: https://www.youtube.com/watch?v=kcrRu6jEBVg\n",
            "[youtube] kcrRu6jEBVg: Downloading webpage\n",
            "[youtube] kcrRu6jEBVg: Downloading ios player API JSON\n",
            "[youtube] kcrRu6jEBVg: Downloading mweb player API JSON\n",
            "[youtube] kcrRu6jEBVg: Downloading m3u8 information\n",
            "[info] kcrRu6jEBVg: Downloading 1 format(s): 251\n",
            "[download] Destination: /content/audios/audio_4.webm\n",
            "[download] 100% of    6.59MiB in 00:00:00 at 12.47MiB/s  \n",
            "Downloading audio for video 5: https://www.youtube.com/watch?v=LIG3Yl5pZ1Y\n",
            "[youtube] Extracting URL: https://www.youtube.com/watch?v=LIG3Yl5pZ1Y\n",
            "[youtube] LIG3Yl5pZ1Y: Downloading webpage\n",
            "[youtube] LIG3Yl5pZ1Y: Downloading ios player API JSON\n",
            "[youtube] LIG3Yl5pZ1Y: Downloading mweb player API JSON\n",
            "[youtube] LIG3Yl5pZ1Y: Downloading m3u8 information\n",
            "[info] LIG3Yl5pZ1Y: Downloading 1 format(s): 251\n",
            "[download] Destination: /content/audios/audio_5.webm\n",
            "[download] 100% of    4.13MiB in 00:00:00 at 4.65MiB/s   \n",
            "Downloading audio for video 6: https://www.youtube.com/watch?v=xbJIl4JYVuQ\n",
            "[youtube] Extracting URL: https://www.youtube.com/watch?v=xbJIl4JYVuQ\n",
            "[youtube] xbJIl4JYVuQ: Downloading webpage\n",
            "[youtube] xbJIl4JYVuQ: Downloading ios player API JSON\n",
            "[youtube] xbJIl4JYVuQ: Downloading mweb player API JSON\n",
            "[youtube] xbJIl4JYVuQ: Downloading m3u8 information\n",
            "[info] xbJIl4JYVuQ: Downloading 1 format(s): 251\n",
            "[download] Destination: /content/audios/audio_6.webm\n",
            "[download] 100% of    5.05MiB in 00:00:00 at 14.41MiB/s  \n",
            "Downloading audio for video 7: https://www.youtube.com/watch?v=THEwbUfdDBg\n",
            "[youtube] Extracting URL: https://www.youtube.com/watch?v=THEwbUfdDBg\n",
            "[youtube] THEwbUfdDBg: Downloading webpage\n",
            "[youtube] THEwbUfdDBg: Downloading ios player API JSON\n",
            "[youtube] THEwbUfdDBg: Downloading mweb player API JSON\n",
            "[youtube] THEwbUfdDBg: Downloading m3u8 information\n",
            "[info] THEwbUfdDBg: Downloading 1 format(s): 251\n",
            "[download] Destination: /content/audios/audio_7.webm\n",
            "[download] 100% of    2.78MiB in 00:00:00 at 8.25MiB/s   \n",
            "Downloading audio for video 8: https://www.youtube.com/watch?v=c1zAoWQzTkA\n",
            "[youtube] Extracting URL: https://www.youtube.com/watch?v=c1zAoWQzTkA\n",
            "[youtube] c1zAoWQzTkA: Downloading webpage\n",
            "[youtube] c1zAoWQzTkA: Downloading ios player API JSON\n",
            "[youtube] c1zAoWQzTkA: Downloading mweb player API JSON\n",
            "[youtube] c1zAoWQzTkA: Downloading m3u8 information\n",
            "[info] c1zAoWQzTkA: Downloading 1 format(s): 251\n",
            "[download] Destination: /content/audios/audio_8.webm\n",
            "[download] 100% of    4.69MiB in 00:00:00 at 13.51MiB/s  \n",
            "Downloading audio for video 9: https://www.youtube.com/watch?v=o_4Guei57d4\n",
            "[youtube] Extracting URL: https://www.youtube.com/watch?v=o_4Guei57d4\n",
            "[youtube] o_4Guei57d4: Downloading webpage\n",
            "[youtube] o_4Guei57d4: Downloading ios player API JSON\n",
            "[youtube] o_4Guei57d4: Downloading mweb player API JSON\n",
            "[youtube] o_4Guei57d4: Downloading m3u8 information\n",
            "[info] o_4Guei57d4: Downloading 1 format(s): 251\n",
            "[download] Destination: /content/audios/audio_9.webm\n",
            "[download] 100% of    3.23MiB in 00:00:00 at 10.72MiB/s  \n",
            "Downloading audio for video 10: https://www.youtube.com/watch?v=hIONLnTPZc4\n",
            "[youtube] Extracting URL: https://www.youtube.com/watch?v=hIONLnTPZc4\n",
            "[youtube] hIONLnTPZc4: Downloading webpage\n",
            "[youtube] hIONLnTPZc4: Downloading ios player API JSON\n",
            "[youtube] hIONLnTPZc4: Downloading mweb player API JSON\n",
            "[youtube] hIONLnTPZc4: Downloading m3u8 information\n",
            "[info] hIONLnTPZc4: Downloading 1 format(s): 251\n",
            "[download] Destination: /content/audios/audio_10.webm\n",
            "[download] 100% of    4.12MiB in 00:00:00 at 9.51MiB/s   \n",
            "Downloading audio for video 11: https://www.youtube.com/watch?v=1Hk5b3ryDYI\n",
            "[youtube] Extracting URL: https://www.youtube.com/watch?v=1Hk5b3ryDYI\n",
            "[youtube] 1Hk5b3ryDYI: Downloading webpage\n",
            "[youtube] 1Hk5b3ryDYI: Downloading ios player API JSON\n",
            "[youtube] 1Hk5b3ryDYI: Downloading mweb player API JSON\n",
            "[youtube] 1Hk5b3ryDYI: Downloading m3u8 information\n",
            "[info] 1Hk5b3ryDYI: Downloading 1 format(s): 251\n",
            "[download] Destination: /content/audios/audio_11.webm\n",
            "[download] 100% of    3.03MiB in 00:00:00 at 9.77MiB/s   \n",
            "Downloading audio for video 12: https://www.youtube.com/watch?v=hheLRMkUdZ4\n",
            "[youtube] Extracting URL: https://www.youtube.com/watch?v=hheLRMkUdZ4\n",
            "[youtube] hheLRMkUdZ4: Downloading webpage\n",
            "[youtube] hheLRMkUdZ4: Downloading ios player API JSON\n",
            "[youtube] hheLRMkUdZ4: Downloading mweb player API JSON\n",
            "[youtube] hheLRMkUdZ4: Downloading m3u8 information\n",
            "[info] hheLRMkUdZ4: Downloading 1 format(s): 251\n",
            "[download] Destination: /content/audios/audio_12.webm\n",
            "[download] 100% of    6.06MiB in 00:00:01 at 4.41MiB/s   \n",
            "Downloading audio for video 13: https://www.youtube.com/watch?v=nHr4dOtBYq0\n",
            "[youtube] Extracting URL: https://www.youtube.com/watch?v=nHr4dOtBYq0\n",
            "[youtube] nHr4dOtBYq0: Downloading webpage\n",
            "[youtube] nHr4dOtBYq0: Downloading ios player API JSON\n",
            "[youtube] nHr4dOtBYq0: Downloading mweb player API JSON\n",
            "[youtube] nHr4dOtBYq0: Downloading m3u8 information\n",
            "[info] nHr4dOtBYq0: Downloading 1 format(s): 251\n",
            "[download] Destination: /content/audios/audio_13.webm\n",
            "[download] 100% of    3.78MiB in 00:00:00 at 8.96MiB/s   \n",
            "Downloading audio for video 14: https://www.youtube.com/watch?v=wBlTNeuHOUs\n",
            "[youtube] Extracting URL: https://www.youtube.com/watch?v=wBlTNeuHOUs\n",
            "[youtube] wBlTNeuHOUs: Downloading webpage\n",
            "[youtube] wBlTNeuHOUs: Downloading ios player API JSON\n",
            "[youtube] wBlTNeuHOUs: Downloading mweb player API JSON\n",
            "[youtube] wBlTNeuHOUs: Downloading m3u8 information\n",
            "[info] wBlTNeuHOUs: Downloading 1 format(s): 251\n",
            "[download] Destination: /content/audios/audio_14.webm\n",
            "[download] 100% of    3.80MiB in 00:00:00 at 12.01MiB/s  \n",
            "Downloading audio for video 15: https://www.youtube.com/watch?v=0qimBipiCV8\n",
            "[youtube] Extracting URL: https://www.youtube.com/watch?v=0qimBipiCV8\n",
            "[youtube] 0qimBipiCV8: Downloading webpage\n",
            "[youtube] 0qimBipiCV8: Downloading ios player API JSON\n",
            "[youtube] 0qimBipiCV8: Downloading mweb player API JSON\n",
            "[youtube] 0qimBipiCV8: Downloading m3u8 information\n",
            "[info] 0qimBipiCV8: Downloading 1 format(s): 251\n",
            "[download] Destination: /content/audios/audio_15.webm\n",
            "[download] 100% of    4.78MiB in 00:00:00 at 14.49MiB/s  \n",
            "Mashup created and saved to /content/output/mashup.mp3\n",
            "Mashup created successfully. Downloading...\n"
          ]
        },
        {
          "output_type": "display_data",
          "data": {
            "text/plain": [
              "<IPython.core.display.Javascript object>"
            ],
            "application/javascript": [
              "\n",
              "    async function download(id, filename, size) {\n",
              "      if (!google.colab.kernel.accessAllowed) {\n",
              "        return;\n",
              "      }\n",
              "      const div = document.createElement('div');\n",
              "      const label = document.createElement('label');\n",
              "      label.textContent = `Downloading \"${filename}\": `;\n",
              "      div.appendChild(label);\n",
              "      const progress = document.createElement('progress');\n",
              "      progress.max = size;\n",
              "      div.appendChild(progress);\n",
              "      document.body.appendChild(div);\n",
              "\n",
              "      const buffers = [];\n",
              "      let downloaded = 0;\n",
              "\n",
              "      const channel = await google.colab.kernel.comms.open(id);\n",
              "      // Send a message to notify the kernel that we're ready.\n",
              "      channel.send({})\n",
              "\n",
              "      for await (const message of channel.messages) {\n",
              "        // Send a message to notify the kernel that we're ready.\n",
              "        channel.send({})\n",
              "        if (message.buffers) {\n",
              "          for (const buffer of message.buffers) {\n",
              "            buffers.push(buffer);\n",
              "            downloaded += buffer.byteLength;\n",
              "            progress.value = downloaded;\n",
              "          }\n",
              "        }\n",
              "      }\n",
              "      const blob = new Blob(buffers, {type: 'application/binary'});\n",
              "      const a = document.createElement('a');\n",
              "      a.href = window.URL.createObjectURL(blob);\n",
              "      a.download = filename;\n",
              "      div.appendChild(a);\n",
              "      a.click();\n",
              "      div.remove();\n",
              "    }\n",
              "  "
            ]
          },
          "metadata": {}
        },
        {
          "output_type": "display_data",
          "data": {
            "text/plain": [
              "<IPython.core.display.Javascript object>"
            ],
            "application/javascript": [
              "download(\"download_f187fb0e-b53b-4535-b7a1-5b3605d0e1f0\", \"mashup.mp3\", 1200621)"
            ]
          },
          "metadata": {}
        }
      ]
    },
    {
      "cell_type": "code",
      "source": [],
      "metadata": {
        "id": "PMCaCRmCTInI"
      },
      "execution_count": null,
      "outputs": []
    }
  ]
}