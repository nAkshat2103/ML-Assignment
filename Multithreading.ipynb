{
  "nbformat": 4,
  "nbformat_minor": 0,
  "metadata": {
    "colab": {
      "provenance": [],
      "authorship_tag": "ABX9TyP8bSIBoPaIg8JhVlqwUruR",
      "include_colab_link": true
    },
    "kernelspec": {
      "name": "python3",
      "display_name": "Python 3"
    },
    "language_info": {
      "name": "python"
    }
  },
  "cells": [
    {
      "cell_type": "markdown",
      "metadata": {
        "id": "view-in-github",
        "colab_type": "text"
      },
      "source": [
        "<a href=\"https://colab.research.google.com/github/nAkshat2103/ML-Assignment/blob/main/Multithreading.ipynb\" target=\"_parent\"><img src=\"https://colab.research.google.com/assets/colab-badge.svg\" alt=\"Open In Colab\"/></a>"
      ]
    },
    {
      "cell_type": "code",
      "execution_count": 1,
      "metadata": {
        "id": "-7PvY1NLXkL4"
      },
      "outputs": [],
      "source": [
        "import numpy as np\n",
        "import concurrent.futures\n",
        "import time\n",
        "import psutil\n",
        "import matplotlib.pyplot as plt"
      ]
    },
    {
      "cell_type": "code",
      "source": [
        "matrix_size = 500\n",
        "num_matrices = 500\n",
        "batch_size = 10"
      ],
      "metadata": {
        "id": "_z86aeSKXlVI"
      },
      "execution_count": 2,
      "outputs": []
    },
    {
      "cell_type": "code",
      "source": [
        "constant_matrix = np.random.rand(matrix_size, matrix_size)\n",
        "\n",
        "def multiply_matrix(matrix):\n",
        "    return np.dot(matrix, constant_matrix)\n",
        "\n",
        "def monitor_cpu():\n",
        "    \"\"\"Get current CPU usage per core.\"\"\"\n",
        "    return psutil.cpu_percent(interval=1, percpu=True)"
      ],
      "metadata": {
        "id": "xL3B19tBXwiK"
      },
      "execution_count": 3,
      "outputs": []
    },
    {
      "cell_type": "code",
      "source": [
        "results = []\n",
        "cpu_usages_start = []\n",
        "cpu_usages_end = []\n",
        "thread_counts = list(range(1, 9))"
      ],
      "metadata": {
        "id": "8YtDBTuwXzJO"
      },
      "execution_count": 4,
      "outputs": []
    },
    {
      "cell_type": "code",
      "source": [
        "for threads in thread_counts:\n",
        "    print(f\"Running with {threads} threads...\")\n",
        "\n",
        "    # Measure CPU usage at the start\n",
        "    cpu_usages_start.append(monitor_cpu())\n",
        "\n",
        "    start_time = time.time()\n",
        "\n",
        "    # Process in batches to reduce memory usage\n",
        "    for _ in range(0, num_matrices, batch_size):\n",
        "        batch = [np.random.rand(matrix_size, matrix_size) for _ in range(batch_size)]\n",
        "\n",
        "        with concurrent.futures.ThreadPoolExecutor(max_workers=threads) as executor:\n",
        "            list(executor.map(multiply_matrix, batch))\n",
        "\n",
        "    # Measure time taken and CPU usage at the end\n",
        "    time_taken = (time.time() - start_time) / 60  # Convert time to minutes\n",
        "    results.append(time_taken)\n",
        "    cpu_usages_end.append(monitor_cpu())\n",
        "\n",
        "    print(f\"Time taken with {threads} threads: {time_taken:.2f} minutes\")"
      ],
      "metadata": {
        "colab": {
          "base_uri": "https://localhost:8080/"
        },
        "id": "uEQ4_UiZX1Wq",
        "outputId": "2beccedc-7034-4ad4-8918-aa913d2bca9e"
      },
      "execution_count": 5,
      "outputs": [
        {
          "output_type": "stream",
          "name": "stdout",
          "text": [
            "Running with 1 threads...\n",
            "Time taken with 1 threads: 0.15 minutes\n",
            "Running with 2 threads...\n",
            "Time taken with 2 threads: 0.16 minutes\n",
            "Running with 3 threads...\n",
            "Time taken with 3 threads: 0.12 minutes\n",
            "Running with 4 threads...\n",
            "Time taken with 4 threads: 0.13 minutes\n",
            "Running with 5 threads...\n",
            "Time taken with 5 threads: 0.15 minutes\n",
            "Running with 6 threads...\n",
            "Time taken with 6 threads: 0.15 minutes\n",
            "Running with 7 threads...\n",
            "Time taken with 7 threads: 0.15 minutes\n",
            "Running with 8 threads...\n",
            "Time taken with 8 threads: 0.12 minutes\n"
          ]
        }
      ]
    },
    {
      "cell_type": "code",
      "source": [],
      "metadata": {
        "id": "N4SZK2dQX4sS"
      },
      "execution_count": null,
      "outputs": []
    }
  ]
}